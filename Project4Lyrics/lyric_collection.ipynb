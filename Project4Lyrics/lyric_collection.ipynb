{
 "cells": [
  {
   "cell_type": "code",
   "execution_count": 1,
   "metadata": {},
   "outputs": [],
   "source": [
    "import requests \n",
    "from bs4 import BeautifulSoup as soup\n",
    "import re\n",
    "import pandas as pd"
   ]
  },
  {
   "cell_type": "code",
   "execution_count": 2,
   "metadata": {},
   "outputs": [],
   "source": [
    "def linksRetrieve(artistName, listName, url, targetString, nameList):\n",
    "    '''Creates a link list and saves it in a CSV file'''\n",
    "    artistName=requests.get(url)\n",
    "    pageHTML=soup(artistName.text, 'html.parser')\n",
    "    listName=[]\n",
    "    for link in pageHTML.find_all('a', attrs={'href':re.compile(targetString)}): \n",
    "        listName.append(link.get('href')) \n",
    "    listName=pd.DataFrame(listName)\n",
    "    listName.to_csv(nameList+'.csv', header=['links'])"
   ]
  },
  {
   "cell_type": "code",
   "execution_count": 3,
   "metadata": {},
   "outputs": [],
   "source": [
    "def lyricRetrieve(linkFile, artistName):\n",
    "    '''Retrieves lyrics from every link in file and saves them into a nested list for another CSV file'''\n",
    "    links=pd.read_csv(linkFile)\n",
    "    songDF=[] \n",
    "    for i in range(len(links)):\n",
    "        url=links['links'].iloc[i]  \n",
    "        songLink=requests.get(url) \n",
    "        songHTML=soup(songLink.text, 'html.parser') \n",
    "        lines=''  \n",
    "        result=songHTML.find_all('p', {'class':\"verse\"})\n",
    "        if not result:\n",
    "            continue    \n",
    "        for line in songHTML.find_all('p', {'class':\"verse\"}): \n",
    "            line=str(line.text).replace('\\'', '%temp%').replace('\\n', ' ').replace('%temp%', ' ')+' ' \n",
    "            line=line.replace('(', '%temp%').replace(')', ' ').replace('%temp%', ' ')\n",
    "            lines=lines+line \n",
    "        songDF.append(lines) \n",
    "    songDF=pd.DataFrame(songDF)\n",
    "    songDF.to_csv(artistName+'.csv', header=['songs'])"
   ]
  },
  {
   "cell_type": "code",
   "execution_count": 4,
   "metadata": {},
   "outputs": [],
   "source": [
    "url='https://www.metrolyrics.com/lady-gaga-lyrics.html'\n",
    "linksRetrieve('LadyGaga', 'gagaSongs', url, '-lyrics-lady-gaga', 'gagaLinks')\n",
    "lyricRetrieve('gagaLinks.csv', 'gagaLyrics')"
   ]
  },
  {
   "cell_type": "code",
   "execution_count": 5,
   "metadata": {},
   "outputs": [],
   "source": [
    "url='https://www.metrolyrics.com/frank-sinatra-lyrics.html'\n",
    "linksRetrieve('FrankSinatra', 'sinatraSongs', url, '-lyrics-frank', 'sinatraLinks')\n",
    "lyricRetrieve('sinatraLinks.csv', 'sinatraLyrics')"
   ]
  },
  {
   "cell_type": "code",
   "execution_count": null,
   "metadata": {},
   "outputs": [],
   "source": []
  }
 ],
 "metadata": {
  "kernelspec": {
   "display_name": "Python 3",
   "language": "python",
   "name": "python3"
  },
  "language_info": {
   "codemirror_mode": {
    "name": "ipython",
    "version": 3
   },
   "file_extension": ".py",
   "mimetype": "text/x-python",
   "name": "python",
   "nbconvert_exporter": "python",
   "pygments_lexer": "ipython3",
   "version": "3.7.7"
  }
 },
 "nbformat": 4,
 "nbformat_minor": 4
}
