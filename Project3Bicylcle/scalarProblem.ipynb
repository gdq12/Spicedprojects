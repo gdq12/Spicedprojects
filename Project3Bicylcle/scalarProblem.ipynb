{
 "cells": [
  {
   "cell_type": "markdown",
   "metadata": {},
   "source": [
    "## Import and split data"
   ]
  },
  {
   "cell_type": "code",
   "execution_count": 131,
   "metadata": {},
   "outputs": [],
   "source": [
    "import pandas as pd\n",
    "import matplotlib.pyplot as plt \n",
    "import seaborn as sns\n",
    "import numpy as np\n",
    "import warnings\n",
    "warnings.simplefilter('ignore')\n",
    "bikes=pd.read_csv('train.csv', index_col=0, parse_dates=True)"
   ]
  },
  {
   "cell_type": "code",
   "execution_count": 132,
   "metadata": {},
   "outputs": [],
   "source": [
    "from sklearn.model_selection import train_test_split\n",
    "\n",
    "def dfSplitter(df):\n",
    "    #split data to training and testing data sets \n",
    "    y=df['count']\n",
    "    X=df.iloc[:, :10]\n",
    "    xTrain, xTest, yTrain, yTest=train_test_split(X, y, train_size=0.8, random_state=42)\n",
    "    return(xTrain, xTest, yTrain, yTest)"
   ]
  },
  {
   "cell_type": "code",
   "execution_count": 133,
   "metadata": {},
   "outputs": [],
   "source": [
    "xTrain, xTest, yTrain, yTest=dfSplitter(bikes)"
   ]
  },
  {
   "cell_type": "markdown",
   "metadata": {},
   "source": [
    "## Cleanup data for Exploratory Data Analysis (EDA)"
   ]
  },
  {
   "cell_type": "code",
   "execution_count": 134,
   "metadata": {},
   "outputs": [],
   "source": [
    "def cleanerX(X):\n",
    "    X['month']=X.index.month\n",
    "    X['day']=X.index.weekday\n",
    "    X['hour']=X.index.hour\n",
    "    X['dayName']=X.index.day_name()"
   ]
  },
  {
   "cell_type": "markdown",
   "metadata": {},
   "source": [
    "## From EDA and feature selection, the ones that are worth a try for modeling: hour, workingday,  atemp, humidity, month,  holiday and season"
   ]
  },
  {
   "cell_type": "markdown",
   "metadata": {},
   "source": [
    "## Feature Engineering I"
   ]
  },
  {
   "cell_type": "markdown",
   "metadata": {},
   "source": [
    "#### Creating time peaks and interacting terms"
   ]
  },
  {
   "cell_type": "code",
   "execution_count": 135,
   "metadata": {},
   "outputs": [],
   "source": [
    "cleanerX(xTrain)"
   ]
  },
  {
   "cell_type": "code",
   "execution_count": 136,
   "metadata": {},
   "outputs": [],
   "source": [
    "def featEng(X):\n",
    "    #creating month columns for peaks in june nad july \n",
    "    X['mJun']=np.abs(X['month']-6) \n",
    "    X['mJul']=np.abs(X['month']-7)\n",
    "    #creating peak time columns\n",
    "    X['8h']=np.abs(X['hour']-8)\n",
    "    X['18h']=np.abs(X['hour']-18)\n",
    "    #interaction terms \n",
    "    X['mJulHol']=X['mJul']*X['holiday']\n",
    "    X['mJunWD']=X['mJun']*X['workingday']\n",
    "    X['mJultemp']=X['mJul']*X['temp']\n",
    "    X['mJulHum']=X['mJul']*X['humidity']\n",
    "    return(X)"
   ]
  },
  {
   "cell_type": "code",
   "execution_count": 137,
   "metadata": {},
   "outputs": [],
   "source": [
    "def featEng2(X,y):\n",
    "    #remove problematic column\n",
    "    X.drop(['dayName', 'casual', 'registered'], axis=1, inplace=True)\n",
    "    #calculate log of count\n",
    "    y=np.log(y+1)\n",
    "    return(X,y)"
   ]
  },
  {
   "cell_type": "code",
   "execution_count": 138,
   "metadata": {},
   "outputs": [],
   "source": [
    "xTrain=featEng(xTrain)"
   ]
  },
  {
   "cell_type": "code",
   "execution_count": 139,
   "metadata": {},
   "outputs": [],
   "source": [
    "xTrain, yTrain=featEng2(xTrain, yTrain)"
   ]
  },
  {
   "cell_type": "code",
   "execution_count": 140,
   "metadata": {},
   "outputs": [
    {
     "data": {
      "text/html": [
       "<div>\n",
       "<style scoped>\n",
       "    .dataframe tbody tr th:only-of-type {\n",
       "        vertical-align: middle;\n",
       "    }\n",
       "\n",
       "    .dataframe tbody tr th {\n",
       "        vertical-align: top;\n",
       "    }\n",
       "\n",
       "    .dataframe thead th {\n",
       "        text-align: right;\n",
       "    }\n",
       "</style>\n",
       "<table border=\"1\" class=\"dataframe\">\n",
       "  <thead>\n",
       "    <tr style=\"text-align: right;\">\n",
       "      <th></th>\n",
       "      <th>season</th>\n",
       "      <th>holiday</th>\n",
       "      <th>workingday</th>\n",
       "      <th>weather</th>\n",
       "      <th>temp</th>\n",
       "      <th>atemp</th>\n",
       "      <th>humidity</th>\n",
       "      <th>windspeed</th>\n",
       "      <th>month</th>\n",
       "      <th>day</th>\n",
       "      <th>hour</th>\n",
       "      <th>mJun</th>\n",
       "      <th>mJul</th>\n",
       "      <th>8h</th>\n",
       "      <th>18h</th>\n",
       "      <th>mJulHol</th>\n",
       "      <th>mJunWD</th>\n",
       "      <th>mJultemp</th>\n",
       "      <th>mJulHum</th>\n",
       "    </tr>\n",
       "    <tr>\n",
       "      <th>datetime</th>\n",
       "      <th></th>\n",
       "      <th></th>\n",
       "      <th></th>\n",
       "      <th></th>\n",
       "      <th></th>\n",
       "      <th></th>\n",
       "      <th></th>\n",
       "      <th></th>\n",
       "      <th></th>\n",
       "      <th></th>\n",
       "      <th></th>\n",
       "      <th></th>\n",
       "      <th></th>\n",
       "      <th></th>\n",
       "      <th></th>\n",
       "      <th></th>\n",
       "      <th></th>\n",
       "      <th></th>\n",
       "      <th></th>\n",
       "    </tr>\n",
       "  </thead>\n",
       "  <tbody>\n",
       "    <tr>\n",
       "      <th>2011-07-06 05:00:00</th>\n",
       "      <td>3</td>\n",
       "      <td>0</td>\n",
       "      <td>1</td>\n",
       "      <td>1</td>\n",
       "      <td>27.88</td>\n",
       "      <td>31.820</td>\n",
       "      <td>83</td>\n",
       "      <td>6.0032</td>\n",
       "      <td>7</td>\n",
       "      <td>2</td>\n",
       "      <td>5</td>\n",
       "      <td>1</td>\n",
       "      <td>0</td>\n",
       "      <td>3</td>\n",
       "      <td>13</td>\n",
       "      <td>0</td>\n",
       "      <td>1</td>\n",
       "      <td>0.0</td>\n",
       "      <td>0</td>\n",
       "    </tr>\n",
       "    <tr>\n",
       "      <th>2012-08-04 16:00:00</th>\n",
       "      <td>3</td>\n",
       "      <td>0</td>\n",
       "      <td>0</td>\n",
       "      <td>1</td>\n",
       "      <td>36.90</td>\n",
       "      <td>40.910</td>\n",
       "      <td>39</td>\n",
       "      <td>19.9995</td>\n",
       "      <td>8</td>\n",
       "      <td>5</td>\n",
       "      <td>16</td>\n",
       "      <td>2</td>\n",
       "      <td>1</td>\n",
       "      <td>8</td>\n",
       "      <td>2</td>\n",
       "      <td>0</td>\n",
       "      <td>0</td>\n",
       "      <td>36.9</td>\n",
       "      <td>39</td>\n",
       "    </tr>\n",
       "    <tr>\n",
       "      <th>2012-07-11 15:00:00</th>\n",
       "      <td>3</td>\n",
       "      <td>0</td>\n",
       "      <td>1</td>\n",
       "      <td>1</td>\n",
       "      <td>32.80</td>\n",
       "      <td>35.605</td>\n",
       "      <td>41</td>\n",
       "      <td>16.9979</td>\n",
       "      <td>7</td>\n",
       "      <td>2</td>\n",
       "      <td>15</td>\n",
       "      <td>1</td>\n",
       "      <td>0</td>\n",
       "      <td>7</td>\n",
       "      <td>3</td>\n",
       "      <td>0</td>\n",
       "      <td>1</td>\n",
       "      <td>0.0</td>\n",
       "      <td>0</td>\n",
       "    </tr>\n",
       "  </tbody>\n",
       "</table>\n",
       "</div>"
      ],
      "text/plain": [
       "                     season  holiday  workingday  weather   temp   atemp  \\\n",
       "datetime                                                                   \n",
       "2011-07-06 05:00:00       3        0           1        1  27.88  31.820   \n",
       "2012-08-04 16:00:00       3        0           0        1  36.90  40.910   \n",
       "2012-07-11 15:00:00       3        0           1        1  32.80  35.605   \n",
       "\n",
       "                     humidity  windspeed  month  day  hour  mJun  mJul  8h  \\\n",
       "datetime                                                                     \n",
       "2011-07-06 05:00:00        83     6.0032      7    2     5     1     0   3   \n",
       "2012-08-04 16:00:00        39    19.9995      8    5    16     2     1   8   \n",
       "2012-07-11 15:00:00        41    16.9979      7    2    15     1     0   7   \n",
       "\n",
       "                     18h  mJulHol  mJunWD  mJultemp  mJulHum  \n",
       "datetime                                                      \n",
       "2011-07-06 05:00:00   13        0       1       0.0        0  \n",
       "2012-08-04 16:00:00    2        0       0      36.9       39  \n",
       "2012-07-11 15:00:00    3        0       1       0.0        0  "
      ]
     },
     "execution_count": 140,
     "metadata": {},
     "output_type": "execute_result"
    }
   ],
   "source": [
    "xTrain.head(3)"
   ]
  },
  {
   "cell_type": "code",
   "execution_count": 141,
   "metadata": {},
   "outputs": [
    {
     "data": {
      "text/plain": [
       "datetime\n",
       "2011-07-06 05:00:00    3.583519\n",
       "2012-08-04 16:00:00    6.111467\n",
       "2012-07-11 15:00:00    5.624018\n",
       "2011-04-10 04:00:00    1.791759\n",
       "2011-11-19 10:00:00    5.303305\n",
       "Name: count, dtype: float64"
      ]
     },
     "execution_count": 141,
     "metadata": {},
     "output_type": "execute_result"
    }
   ],
   "source": [
    "yTrain.head()"
   ]
  },
  {
   "cell_type": "markdown",
   "metadata": {},
   "source": [
    "## Modeling: no scaling, only log1p(y+1), exp(ypred) vs not"
   ]
  },
  {
   "cell_type": "code",
   "execution_count": 142,
   "metadata": {},
   "outputs": [
    {
     "data": {
      "text/plain": [
       "LinearRegression(copy_X=True, fit_intercept=True, n_jobs=None, normalize=False)"
      ]
     },
     "execution_count": 142,
     "metadata": {},
     "output_type": "execute_result"
    }
   ],
   "source": [
    "m=LinearRegression()\n",
    "m.fit(xTrain, yTrain)"
   ]
  },
  {
   "cell_type": "code",
   "execution_count": 143,
   "metadata": {},
   "outputs": [
    {
     "data": {
      "text/plain": [
       "0.6271012242195796"
      ]
     },
     "execution_count": 143,
     "metadata": {},
     "output_type": "execute_result"
    }
   ],
   "source": [
    "m.score(xTrain, yTrain)"
   ]
  },
  {
   "cell_type": "code",
   "execution_count": 144,
   "metadata": {},
   "outputs": [],
   "source": [
    "xTrain['ypred']=m.predict(xTrain)"
   ]
  },
  {
   "cell_type": "code",
   "execution_count": 145,
   "metadata": {},
   "outputs": [
    {
     "data": {
      "text/plain": [
       "count    8708.000000\n",
       "mean        4.593780\n",
       "std         1.121003\n",
       "min         1.073173\n",
       "25%         3.834041\n",
       "50%         4.811960\n",
       "75%         5.485406\n",
       "max         6.679346\n",
       "Name: ypred, dtype: float64"
      ]
     },
     "execution_count": 145,
     "metadata": {},
     "output_type": "execute_result"
    }
   ],
   "source": [
    "xTrain['ypred'].describe()"
   ]
  },
  {
   "cell_type": "code",
   "execution_count": 146,
   "metadata": {},
   "outputs": [
    {
     "data": {
      "text/plain": [
       "count    8708.000000\n",
       "mean      160.513433\n",
       "std       137.533529\n",
       "min         2.924646\n",
       "25%        46.249036\n",
       "50%       122.972399\n",
       "75%       241.146897\n",
       "max       795.798731\n",
       "Name: ypred, dtype: float64"
      ]
     },
     "execution_count": 146,
     "metadata": {},
     "output_type": "execute_result"
    }
   ],
   "source": [
    "np.exp(xTrain['ypred']).describe()"
   ]
  },
  {
   "cell_type": "code",
   "execution_count": 147,
   "metadata": {},
   "outputs": [],
   "source": [
    "xTrain['ypred2']=np.exp(xTrain['ypred'])"
   ]
  },
  {
   "cell_type": "code",
   "execution_count": 148,
   "metadata": {},
   "outputs": [
    {
     "data": {
      "text/plain": [
       "<matplotlib.axes._subplots.AxesSubplot at 0x1a1bfae110>"
      ]
     },
     "execution_count": 148,
     "metadata": {},
     "output_type": "execute_result"
    },
    {
     "data": {
      "image/png": "[encoded data removed]",
      "text/plain": [
       "<Figure size 432x288 with 1 Axes>"
      ]
     },
     "metadata": {
      "needs_background": "light"
     },
     "output_type": "display_data"
    }
   ],
   "source": [
    "sns.lineplot(x=xTrain.index.month, y=yTrain, label='yTrue')\n",
    "sns.lineplot(x=xTrain.index.month, y=xTrain['ypred'], label='ypred')"
   ]
  },
  {
   "cell_type": "code",
   "execution_count": 149,
   "metadata": {},
   "outputs": [
    {
     "data": {
      "text/plain": [
       "0.21066492406334797"
      ]
     },
     "execution_count": 149,
     "metadata": {},
     "output_type": "execute_result"
    }
   ],
   "source": [
    "np.sqrt(mean_squared_log_error(yTrain, xTrain['ypred']))"
   ]
  },
  {
   "cell_type": "code",
   "execution_count": 150,
   "metadata": {},
   "outputs": [
    {
     "data": {
      "text/plain": [
       "<matplotlib.axes._subplots.AxesSubplot at 0x1a1c42bd50>"
      ]
     },
     "execution_count": 150,
     "metadata": {},
     "output_type": "execute_result"
    },
    {
     "data": {
      "image/png": "[encoded data removed]",
      "text/plain": [
       "<Figure size 432x288 with 1 Axes>"
      ]
     },
     "metadata": {
      "needs_background": "light"
     },
     "output_type": "display_data"
    }
   ],
   "source": [
    "sns.lineplot(x=xTrain.index.month, y=yTrain, label='yTrue')\n",
    "sns.lineplot(x=xTrain.index.month, y=xTrain['ypred2'], label='expYpred')"
   ]
  },
  {
   "cell_type": "code",
   "execution_count": 151,
   "metadata": {},
   "outputs": [
    {
     "data": {
      "text/plain": [
       "3.06460167338718"
      ]
     },
     "execution_count": 151,
     "metadata": {},
     "output_type": "execute_result"
    }
   ],
   "source": [
    "np.sqrt(mean_squared_log_error(yTrain, xTrain['ypred2']))"
   ]
  },
  {
   "cell_type": "markdown",
   "metadata": {},
   "source": [
    "## Modeling: with scalar, log1p(y+1), exp(ypred) vs not "
   ]
  },
  {
   "cell_type": "code",
   "execution_count": 152,
   "metadata": {},
   "outputs": [],
   "source": [
    "#prepare new training and testing sets for scaling \n",
    "xTrain, xTest, yTrain, yTest=dfSplitter(bikes)\n",
    "cleanerX(xTrain)\n",
    "xTrain, yTrain=featEng2(xTrain, yTrain)"
   ]
  },
  {
   "cell_type": "code",
   "execution_count": 153,
   "metadata": {},
   "outputs": [],
   "source": [
    "from sklearn.preprocessing import StandardScaler\n",
    "\n",
    "def dfScalar(X, y):\n",
    "    #prepare a df for scaling \n",
    "    dfTrain=pd.concat([y, X], axis=1)\n",
    "    ts=dfTrain.index  \n",
    "    col=dfTrain.columns\n",
    "    #perform scaling transformation\n",
    "    sc=StandardScaler()\n",
    "    dfTrain=sc.fit_transform(dfTrain)\n",
    "    #convert numpy array back to df\n",
    "    dfTrain=pd.DataFrame(dfTrain, columns=col, index=ts)\n",
    "    ##seperate back to x y for modeling \n",
    "    X=dfTrain[col]\n",
    "    X=X.drop('count', axis=1)\n",
    "    y=dfTrain['count']\n",
    "    return(X,y)"
   ]
  },
  {
   "cell_type": "code",
   "execution_count": 154,
   "metadata": {},
   "outputs": [],
   "source": [
    "#first scale all x and y features and then build interaction terms \n",
    "xTrain, yTrain=dfScalar(xTrain, yTrain)\n",
    "xTrain=featEng(xTrain)"
   ]
  },
  {
   "cell_type": "code",
   "execution_count": 155,
   "metadata": {},
   "outputs": [
    {
     "data": {
      "text/html": [
       "<div>\n",
       "<style scoped>\n",
       "    .dataframe tbody tr th:only-of-type {\n",
       "        vertical-align: middle;\n",
       "    }\n",
       "\n",
       "    .dataframe tbody tr th {\n",
       "        vertical-align: top;\n",
       "    }\n",
       "\n",
       "    .dataframe thead th {\n",
       "        text-align: right;\n",
       "    }\n",
       "</style>\n",
       "<table border=\"1\" class=\"dataframe\">\n",
       "  <thead>\n",
       "    <tr style=\"text-align: right;\">\n",
       "      <th></th>\n",
       "      <th>season</th>\n",
       "      <th>holiday</th>\n",
       "      <th>workingday</th>\n",
       "      <th>weather</th>\n",
       "      <th>temp</th>\n",
       "      <th>atemp</th>\n",
       "      <th>humidity</th>\n",
       "      <th>windspeed</th>\n",
       "      <th>month</th>\n",
       "      <th>day</th>\n",
       "      <th>hour</th>\n",
       "      <th>mJun</th>\n",
       "      <th>mJul</th>\n",
       "      <th>8h</th>\n",
       "      <th>18h</th>\n",
       "      <th>mJulHol</th>\n",
       "      <th>mJunWD</th>\n",
       "      <th>mJultemp</th>\n",
       "      <th>mJulHum</th>\n",
       "    </tr>\n",
       "    <tr>\n",
       "      <th>datetime</th>\n",
       "      <th></th>\n",
       "      <th></th>\n",
       "      <th></th>\n",
       "      <th></th>\n",
       "      <th></th>\n",
       "      <th></th>\n",
       "      <th></th>\n",
       "      <th></th>\n",
       "      <th></th>\n",
       "      <th></th>\n",
       "      <th></th>\n",
       "      <th></th>\n",
       "      <th></th>\n",
       "      <th></th>\n",
       "      <th></th>\n",
       "      <th></th>\n",
       "      <th></th>\n",
       "      <th></th>\n",
       "      <th></th>\n",
       "    </tr>\n",
       "  </thead>\n",
       "  <tbody>\n",
       "    <tr>\n",
       "      <th>2011-07-06 05:00:00</th>\n",
       "      <td>0.441439</td>\n",
       "      <td>-0.173335</td>\n",
       "      <td>0.684445</td>\n",
       "      <td>-0.657286</td>\n",
       "      <td>0.977262</td>\n",
       "      <td>0.960505</td>\n",
       "      <td>1.098553</td>\n",
       "      <td>-0.828356</td>\n",
       "      <td>0.138224</td>\n",
       "      <td>-0.509628</td>\n",
       "      <td>-0.945962</td>\n",
       "      <td>5.861776</td>\n",
       "      <td>6.861776</td>\n",
       "      <td>8.945962</td>\n",
       "      <td>18.945962</td>\n",
       "      <td>-1.189384</td>\n",
       "      <td>4.012065</td>\n",
       "      <td>6.705751</td>\n",
       "      <td>7.538026</td>\n",
       "    </tr>\n",
       "    <tr>\n",
       "      <th>2012-08-04 16:00:00</th>\n",
       "      <td>0.441439</td>\n",
       "      <td>-0.173335</td>\n",
       "      <td>-1.461037</td>\n",
       "      <td>-0.657286</td>\n",
       "      <td>2.135457</td>\n",
       "      <td>2.034991</td>\n",
       "      <td>-1.182694</td>\n",
       "      <td>0.878555</td>\n",
       "      <td>0.429385</td>\n",
       "      <td>0.990656</td>\n",
       "      <td>0.643217</td>\n",
       "      <td>5.570615</td>\n",
       "      <td>6.570615</td>\n",
       "      <td>7.356783</td>\n",
       "      <td>17.356783</td>\n",
       "      <td>-1.138916</td>\n",
       "      <td>-8.138874</td>\n",
       "      <td>14.031264</td>\n",
       "      <td>-7.771025</td>\n",
       "    </tr>\n",
       "    <tr>\n",
       "      <th>2012-07-11 15:00:00</th>\n",
       "      <td>0.441439</td>\n",
       "      <td>-0.173335</td>\n",
       "      <td>0.684445</td>\n",
       "      <td>-0.657286</td>\n",
       "      <td>1.609005</td>\n",
       "      <td>1.407912</td>\n",
       "      <td>-1.079001</td>\n",
       "      <td>0.512496</td>\n",
       "      <td>0.138224</td>\n",
       "      <td>-0.509628</td>\n",
       "      <td>0.498746</td>\n",
       "      <td>5.861776</td>\n",
       "      <td>6.861776</td>\n",
       "      <td>7.501254</td>\n",
       "      <td>17.501254</td>\n",
       "      <td>-1.189384</td>\n",
       "      <td>4.012065</td>\n",
       "      <td>11.040628</td>\n",
       "      <td>-7.403861</td>\n",
       "    </tr>\n",
       "  </tbody>\n",
       "</table>\n",
       "</div>"
      ],
      "text/plain": [
       "                       season   holiday  workingday   weather      temp  \\\n",
       "datetime                                                                  \n",
       "2011-07-06 05:00:00  0.441439 -0.173335    0.684445 -0.657286  0.977262   \n",
       "2012-08-04 16:00:00  0.441439 -0.173335   -1.461037 -0.657286  2.135457   \n",
       "2012-07-11 15:00:00  0.441439 -0.173335    0.684445 -0.657286  1.609005   \n",
       "\n",
       "                        atemp  humidity  windspeed     month       day  \\\n",
       "datetime                                                                 \n",
       "2011-07-06 05:00:00  0.960505  1.098553  -0.828356  0.138224 -0.509628   \n",
       "2012-08-04 16:00:00  2.034991 -1.182694   0.878555  0.429385  0.990656   \n",
       "2012-07-11 15:00:00  1.407912 -1.079001   0.512496  0.138224 -0.509628   \n",
       "\n",
       "                         hour      mJun      mJul        8h        18h  \\\n",
       "datetime                                                                 \n",
       "2011-07-06 05:00:00 -0.945962  5.861776  6.861776  8.945962  18.945962   \n",
       "2012-08-04 16:00:00  0.643217  5.570615  6.570615  7.356783  17.356783   \n",
       "2012-07-11 15:00:00  0.498746  5.861776  6.861776  7.501254  17.501254   \n",
       "\n",
       "                      mJulHol    mJunWD   mJultemp   mJulHum  \n",
       "datetime                                                      \n",
       "2011-07-06 05:00:00 -1.189384  4.012065   6.705751  7.538026  \n",
       "2012-08-04 16:00:00 -1.138916 -8.138874  14.031264 -7.771025  \n",
       "2012-07-11 15:00:00 -1.189384  4.012065  11.040628 -7.403861  "
      ]
     },
     "execution_count": 155,
     "metadata": {},
     "output_type": "execute_result"
    }
   ],
   "source": [
    "xTrain.head(3)"
   ]
  },
  {
   "cell_type": "code",
   "execution_count": 156,
   "metadata": {},
   "outputs": [
    {
     "data": {
      "text/plain": [
       "datetime\n",
       "2011-07-06 05:00:00   -0.713708\n",
       "2012-08-04 16:00:00    1.072183\n",
       "2012-07-11 15:00:00    0.727820\n",
       "2011-04-10 04:00:00   -1.979512\n",
       "2011-11-19 10:00:00    0.501250\n",
       "Name: count, dtype: float64"
      ]
     },
     "execution_count": 156,
     "metadata": {},
     "output_type": "execute_result"
    }
   ],
   "source": [
    "yTrain.head()"
   ]
  },
  {
   "cell_type": "code",
   "execution_count": 157,
   "metadata": {},
   "outputs": [
    {
     "data": {
      "text/plain": [
       "LinearRegression(copy_X=True, fit_intercept=True, n_jobs=None, normalize=False)"
      ]
     },
     "execution_count": 157,
     "metadata": {},
     "output_type": "execute_result"
    }
   ],
   "source": [
    "m=LinearRegression()\n",
    "m.fit(xTrain, yTrain)"
   ]
  },
  {
   "cell_type": "code",
   "execution_count": 158,
   "metadata": {},
   "outputs": [
    {
     "data": {
      "text/plain": [
       "0.4683159621510117"
      ]
     },
     "execution_count": 158,
     "metadata": {},
     "output_type": "execute_result"
    }
   ],
   "source": [
    "m.score(xTrain, yTrain)"
   ]
  },
  {
   "cell_type": "code",
   "execution_count": 159,
   "metadata": {},
   "outputs": [],
   "source": [
    "xTrain['ypred']=m.predict(xTrain)"
   ]
  },
  {
   "cell_type": "code",
   "execution_count": 160,
   "metadata": {},
   "outputs": [
    {
     "data": {
      "text/plain": [
       "count    8708.000000\n",
       "mean        0.043816\n",
       "std         0.681329\n",
       "min        -1.656250\n",
       "25%        -0.531250\n",
       "50%         0.062500\n",
       "75%         0.640625\n",
       "max         1.484375\n",
       "Name: ypred, dtype: float64"
      ]
     },
     "execution_count": 160,
     "metadata": {},
     "output_type": "execute_result"
    }
   ],
   "source": [
    "xTrain['ypred'].describe()"
   ]
  },
  {
   "cell_type": "code",
   "execution_count": 161,
   "metadata": {},
   "outputs": [
    {
     "data": {
      "text/plain": [
       "count    8708.000000\n",
       "mean        1.299047\n",
       "std         0.829385\n",
       "min         0.190853\n",
       "25%         0.587870\n",
       "50%         1.064494\n",
       "75%         1.897667\n",
       "max         4.412207\n",
       "Name: ypred, dtype: float64"
      ]
     },
     "execution_count": 161,
     "metadata": {},
     "output_type": "execute_result"
    }
   ],
   "source": [
    "np.exp(xTrain['ypred']).describe()"
   ]
  },
  {
   "cell_type": "code",
   "execution_count": 162,
   "metadata": {},
   "outputs": [],
   "source": [
    "xTrain['ypred2']=np.exp(xTrain['ypred'])"
   ]
  },
  {
   "cell_type": "code",
   "execution_count": 163,
   "metadata": {},
   "outputs": [
    {
     "data": {
      "text/plain": [
       "<matplotlib.axes._subplots.AxesSubplot at 0x1a1c436fd0>"
      ]
     },
     "execution_count": 163,
     "metadata": {},
     "output_type": "execute_result"
    },
    {
     "data": {
      "image/png": "[encoded data removed]",
      "text/plain": [
       "<Figure size 432x288 with 1 Axes>"
      ]
     },
     "metadata": {
      "needs_background": "light"
     },
     "output_type": "display_data"
    }
   ],
   "source": [
    "sns.lineplot(x=xTrain.index.month, y=yTrain, label='yTrue')\n",
    "sns.lineplot(x=xTrain.index.month, y=xTrain['ypred'], label='ypred')"
   ]
  },
  {
   "cell_type": "code",
   "execution_count": 164,
   "metadata": {},
   "outputs": [
    {
     "ename": "ValueError",
     "evalue": "Mean Squared Logarithmic Error cannot be used when targets contain negative values.",
     "output_type": "error",
     "traceback": [
      "\u001b[0;31m---------------------------------------------------------------------------\u001b[0m",
      "\u001b[0;31mValueError\u001b[0m                                Traceback (most recent call last)",
      "\u001b[0;32m<ipython-input-164-f61fb9914733>\u001b[0m in \u001b[0;36m<module>\u001b[0;34m\u001b[0m\n\u001b[0;32m----> 1\u001b[0;31m \u001b[0mnp\u001b[0m\u001b[0;34m.\u001b[0m\u001b[0msqrt\u001b[0m\u001b[0;34m(\u001b[0m\u001b[0mmean_squared_log_error\u001b[0m\u001b[0;34m(\u001b[0m\u001b[0myTrain\u001b[0m\u001b[0;34m,\u001b[0m \u001b[0mxTrain\u001b[0m\u001b[0;34m[\u001b[0m\u001b[0;34m'ypred'\u001b[0m\u001b[0;34m]\u001b[0m\u001b[0;34m)\u001b[0m\u001b[0;34m)\u001b[0m\u001b[0;34m\u001b[0m\u001b[0;34m\u001b[0m\u001b[0m\n\u001b[0m",
      "\u001b[0;32m~/opt/anaconda3/lib/python3.7/site-packages/sklearn/metrics/_regression.py\u001b[0m in \u001b[0;36mmean_squared_log_error\u001b[0;34m(y_true, y_pred, sample_weight, multioutput)\u001b[0m\n\u001b[1;32m    324\u001b[0m \u001b[0;34m\u001b[0m\u001b[0m\n\u001b[1;32m    325\u001b[0m     \u001b[0;32mif\u001b[0m \u001b[0;34m(\u001b[0m\u001b[0my_true\u001b[0m \u001b[0;34m<\u001b[0m \u001b[0;36m0\u001b[0m\u001b[0;34m)\u001b[0m\u001b[0;34m.\u001b[0m\u001b[0many\u001b[0m\u001b[0;34m(\u001b[0m\u001b[0;34m)\u001b[0m \u001b[0;32mor\u001b[0m \u001b[0;34m(\u001b[0m\u001b[0my_pred\u001b[0m \u001b[0;34m<\u001b[0m \u001b[0;36m0\u001b[0m\u001b[0;34m)\u001b[0m\u001b[0;34m.\u001b[0m\u001b[0many\u001b[0m\u001b[0;34m(\u001b[0m\u001b[0;34m)\u001b[0m\u001b[0;34m:\u001b[0m\u001b[0;34m\u001b[0m\u001b[0;34m\u001b[0m\u001b[0m\n\u001b[0;32m--> 326\u001b[0;31m         raise ValueError(\"Mean Squared Logarithmic Error cannot be used when \"\n\u001b[0m\u001b[1;32m    327\u001b[0m                          \"targets contain negative values.\")\n\u001b[1;32m    328\u001b[0m \u001b[0;34m\u001b[0m\u001b[0m\n",
      "\u001b[0;31mValueError\u001b[0m: Mean Squared Logarithmic Error cannot be used when targets contain negative values."
     ]
    }
   ],
   "source": [
    "np.sqrt(mean_squared_log_error(yTrain, xTrain['ypred']))"
   ]
  },
  {
   "cell_type": "code",
   "execution_count": 165,
   "metadata": {},
   "outputs": [
    {
     "data": {
      "text/plain": [
       "<matplotlib.axes._subplots.AxesSubplot at 0x1a18f9f850>"
      ]
     },
     "execution_count": 165,
     "metadata": {},
     "output_type": "execute_result"
    },
    {
     "data": {
      "image/png": "[encoded data removed]",
      "text/plain": [
       "<Figure size 432x288 with 1 Axes>"
      ]
     },
     "metadata": {
      "needs_background": "light"
     },
     "output_type": "display_data"
    }
   ],
   "source": [
    "sns.lineplot(x=xTrain.index.month, y=yTrain, label='yTrue')\n",
    "sns.lineplot(x=xTrain.index.month, y=xTrain['ypred2'], label='expYpred')"
   ]
  },
  {
   "cell_type": "code",
   "execution_count": 166,
   "metadata": {},
   "outputs": [
    {
     "ename": "ValueError",
     "evalue": "Mean Squared Logarithmic Error cannot be used when targets contain negative values.",
     "output_type": "error",
     "traceback": [
      "\u001b[0;31m---------------------------------------------------------------------------\u001b[0m",
      "\u001b[0;31mValueError\u001b[0m                                Traceback (most recent call last)",
      "\u001b[0;32m<ipython-input-166-3f0fe920f85d>\u001b[0m in \u001b[0;36m<module>\u001b[0;34m\u001b[0m\n\u001b[0;32m----> 1\u001b[0;31m \u001b[0mnp\u001b[0m\u001b[0;34m.\u001b[0m\u001b[0msqrt\u001b[0m\u001b[0;34m(\u001b[0m\u001b[0mmean_squared_log_error\u001b[0m\u001b[0;34m(\u001b[0m\u001b[0myTrain\u001b[0m\u001b[0;34m,\u001b[0m \u001b[0mxTrain\u001b[0m\u001b[0;34m[\u001b[0m\u001b[0;34m'ypred2'\u001b[0m\u001b[0;34m]\u001b[0m\u001b[0;34m)\u001b[0m\u001b[0;34m)\u001b[0m\u001b[0;34m\u001b[0m\u001b[0;34m\u001b[0m\u001b[0m\n\u001b[0m",
      "\u001b[0;32m~/opt/anaconda3/lib/python3.7/site-packages/sklearn/metrics/_regression.py\u001b[0m in \u001b[0;36mmean_squared_log_error\u001b[0;34m(y_true, y_pred, sample_weight, multioutput)\u001b[0m\n\u001b[1;32m    324\u001b[0m \u001b[0;34m\u001b[0m\u001b[0m\n\u001b[1;32m    325\u001b[0m     \u001b[0;32mif\u001b[0m \u001b[0;34m(\u001b[0m\u001b[0my_true\u001b[0m \u001b[0;34m<\u001b[0m \u001b[0;36m0\u001b[0m\u001b[0;34m)\u001b[0m\u001b[0;34m.\u001b[0m\u001b[0many\u001b[0m\u001b[0;34m(\u001b[0m\u001b[0;34m)\u001b[0m \u001b[0;32mor\u001b[0m \u001b[0;34m(\u001b[0m\u001b[0my_pred\u001b[0m \u001b[0;34m<\u001b[0m \u001b[0;36m0\u001b[0m\u001b[0;34m)\u001b[0m\u001b[0;34m.\u001b[0m\u001b[0many\u001b[0m\u001b[0;34m(\u001b[0m\u001b[0;34m)\u001b[0m\u001b[0;34m:\u001b[0m\u001b[0;34m\u001b[0m\u001b[0;34m\u001b[0m\u001b[0m\n\u001b[0;32m--> 326\u001b[0;31m         raise ValueError(\"Mean Squared Logarithmic Error cannot be used when \"\n\u001b[0m\u001b[1;32m    327\u001b[0m                          \"targets contain negative values.\")\n\u001b[1;32m    328\u001b[0m \u001b[0;34m\u001b[0m\u001b[0m\n",
      "\u001b[0;31mValueError\u001b[0m: Mean Squared Logarithmic Error cannot be used when targets contain negative values."
     ]
    }
   ],
   "source": [
    "np.sqrt(mean_squared_log_error(yTrain, xTrain['ypred2']))"
   ]
  },
  {
   "cell_type": "code",
   "execution_count": null,
   "metadata": {},
   "outputs": [],
   "source": []
  }
 ],
 "metadata": {
  "kernelspec": {
   "display_name": "Python 3",
   "language": "python",
   "name": "python3"
  },
  "language_info": {
   "codemirror_mode": {
    "name": "ipython",
    "version": 3
   },
   "file_extension": ".py",
   "mimetype": "text/x-python",
   "name": "python",
   "nbconvert_exporter": "python",
   "pygments_lexer": "ipython3",
   "version": "3.7.6"
  }
 },
 "nbformat": 4,
 "nbformat_minor": 4
}
