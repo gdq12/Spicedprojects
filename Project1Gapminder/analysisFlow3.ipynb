{
 "cells": [
  {
   "cell_type": "markdown",
   "metadata": {},
   "source": [
    "# Correlation between life expectancy and fertility globally 1960-2015"
   ]
  },
  {
   "cell_type": "markdown",
   "metadata": {},
   "source": [
    "## Outline\n",
    "- load fertility, life expectancy and population from gapminder \n",
    "- slice columns 1960-2015\n",
    "- merge them together via stack and unstack \n",
    "- create individual scatter plots and histograms for each year \n",
    "- concatenate them together into respective GIFs"
   ]
  },
  {
   "cell_type": "markdown",
   "metadata": {},
   "source": [
    "### Loading data and cleaning up data"
   ]
  },
  {
   "cell_type": "code",
   "execution_count": 1,
   "metadata": {},
   "outputs": [],
   "source": [
    "#importing data frames \n",
    "import pandas as pd\n",
    "fert=pd.read_csv(\"gapminder_total_fertility.csv\", index_col=0)\n",
    "life=pd.read_excel(\"gapminder_lifeexpectancy.xlsx\", index_col=0)\n",
    "pop=pd.read_excel('gapminder_population.xlsx', index_col=0)\n",
    "cont=pd.read_csv('continents.csv', sep=';')"
   ]
  },
  {
   "cell_type": "code",
   "execution_count": 3,
   "metadata": {},
   "outputs": [
    {
     "name": "stdout",
     "output_type": "stream",
     "text": [
      "life df: (260, 217)\n",
      "fert df: (260, 216)\n",
      "pop df: (275, 81)\n",
      "cont df: (194, 2)\n"
     ]
    }
   ],
   "source": [
    "#check each df dimensions \n",
    "print('life df: ' + str(life.shape))\n",
    "print('fert df: ' + str(fert.shape))\n",
    "print('pop df: ' + str(pop.shape))\n",
    "print('cont df: ' + str(cont.shape))"
   ]
  },
  {
   "cell_type": "code",
   "execution_count": 4,
   "metadata": {},
   "outputs": [
    {
     "name": "stdout",
     "output_type": "stream",
     "text": [
      "life columns: Int64Index([1800, 1801, 1802, 1803, 1804, 1805, 1806, 1807, 1808, 1809,\n",
      "            ...\n",
      "            2007, 2008, 2009, 2010, 2011, 2012, 2013, 2014, 2015, 2016],\n",
      "           dtype='int64', length=217)\n",
      "fert columns: Index(['1800', '1801', '1802', '1803', '1804', '1805', '1806', '1807', '1808',\n",
      "       '1809',\n",
      "       ...\n",
      "       '2006', '2007', '2008', '2009', '2010', '2011', '2012', '2013', '2014',\n",
      "       '2015'],\n",
      "      dtype='object', length=216)\n",
      "pop columns: Int64Index([1800, 1810, 1820, 1830, 1840, 1850, 1860, 1870, 1880, 1890, 1900,\n",
      "            1910, 1920, 1930, 1940, 1950, 1951, 1952, 1953, 1954, 1955, 1956,\n",
      "            1957, 1958, 1959, 1960, 1961, 1962, 1963, 1964, 1965, 1966, 1967,\n",
      "            1968, 1969, 1970, 1971, 1972, 1973, 1974, 1975, 1976, 1977, 1978,\n",
      "            1979, 1980, 1981, 1982, 1983, 1984, 1985, 1986, 1987, 1988, 1989,\n",
      "            1990, 1991, 1992, 1993, 1994, 1995, 1996, 1997, 1998, 1999, 2000,\n",
      "            2001, 2002, 2003, 2004, 2005, 2006, 2007, 2008, 2009, 2010, 2011,\n",
      "            2012, 2013, 2014, 2015],\n",
      "           dtype='int64')\n",
      "cont columns: Index(['continent', 'country'], dtype='object')\n"
     ]
    }
   ],
   "source": [
    "#verify that column names are integers and strings \n",
    "print('life columns: ' + str(life.columns))\n",
    "print('fert columns: ' + str(fert.columns))\n",
    "print('pop columns: ' + str(pop.columns))\n",
    "print('cont columns: ' + str(cont.columns))"
   ]
  },
  {
   "cell_type": "code",
   "execution_count": 2,
   "metadata": {},
   "outputs": [
    {
     "name": "stdout",
     "output_type": "stream",
     "text": [
      "fert columns: Int64Index([1800, 1801, 1802, 1803, 1804, 1805, 1806, 1807, 1808, 1809,\n",
      "            ...\n",
      "            2006, 2007, 2008, 2009, 2010, 2011, 2012, 2013, 2014, 2015],\n",
      "           dtype='int64', length=216)\n"
     ]
    }
   ],
   "source": [
    "#change fert column names from string to integer\n",
    "colNames=[int(x) for x in fert.columns]\n",
    "fert.set_axis(axis=1, labels=colNames, inplace=True)\n",
    "#verify fert column names are now integers\n",
    "print('fert columns: ' + str(fert.columns))"
   ]
  },
  {
   "cell_type": "code",
   "execution_count": 3,
   "metadata": {},
   "outputs": [],
   "source": [
    "#set country column to index in cont df for later on \n",
    "cont=cont.set_index('country')"
   ]
  },
  {
   "cell_type": "code",
   "execution_count": 4,
   "metadata": {},
   "outputs": [
    {
     "name": "stdout",
     "output_type": "stream",
     "text": [
      "life df: (260, 56)\n",
      "fert df: (260, 56)\n",
      "pop df: (275, 56)\n"
     ]
    }
   ],
   "source": [
    "#slicing 1960-2015 columns in all 3 dfs\n",
    "targetCols=list(map(int, range(1960, 2016)))\n",
    "fert2=fert[targetCols]\n",
    "life2=life[targetCols]\n",
    "pop2=pop[targetCols]\n",
    "#verify new dfs dimensions \n",
    "print('life df: ' + str(life2.shape))\n",
    "print('fert df: ' + str(fert2.shape))\n",
    "print('pop df: ' + str(pop2.shape))"
   ]
  },
  {
   "cell_type": "markdown",
   "metadata": {},
   "source": [
    "### Merging fertility, population and life expectancy together via stack and unstack "
   ]
  },
  {
   "cell_type": "code",
   "execution_count": 5,
   "metadata": {},
   "outputs": [],
   "source": [
    "#folding the year columns towards the country index for each df\n",
    "sfert2=fert2.stack()\n",
    "slife2=life2.stack()\n",
    "spop2=pop2.stack()"
   ]
  },
  {
   "cell_type": "code",
   "execution_count": 6,
   "metadata": {},
   "outputs": [],
   "source": [
    "#create dictionary for merging the 3 dfs into 1 large one \n",
    "d={'fertility':sfert2, 'lifeExp':slife2, 'population':spop2} \n",
    "#create a large df from the 3 smaller ones where country and year are indices \n",
    "df1=pd.DataFrame(data=d)\n",
    "#fold the df again into a series. country, year and category(fertility, lifeExp, population) are indices\n",
    "df2=df1.stack()"
   ]
  },
  {
   "cell_type": "markdown",
   "metadata": {},
   "source": [
    "### Creating individual plots for 1960-2015\n",
    "- quick note: normalized population data so can properly see how country population affects life expectancy and fertility correlation"
   ]
  },
  {
   "cell_type": "markdown",
   "metadata": {},
   "source": [
    "#### Normalization Formula(* 5000):\n",
    "$$\\frac{x-x_{min}}{x_{max}-x_{min}}$$"
   ]
  },
  {
   "cell_type": "code",
   "execution_count": 9,
   "metadata": {},
   "outputs": [],
   "source": [
    "#use for loop to build and store each scatter plot \n",
    "import pylab as plt\n",
    "from matplotlib.lines import Line2D\n",
    "import seaborn as sns \n",
    "for i in targetCols:\n",
    "    ##partially unfold df by pulling years out of indices\n",
    "    df3=df2.unstack(1)\n",
    "    ##slice the individual year from main df \n",
    "    df3=df3[i]\n",
    "    ##unfold the df further by pulling category from indices\n",
    "    df3=df3.unstack(1)\n",
    "    ##normalize population column \n",
    "    df3['popNorm']=((df3['population']-df3['population'].min())/\n",
    "                    (df3['population'].max()-df3['population'].min()))*5000\n",
    "    df4=pd.merge(cont, df3, left_index=True, right_index=True)\n",
    "    ##create a color map for plot\n",
    "    colLab=df4['continent'].unique() \n",
    "    colVal=sns.color_palette('hls', 8) #created color palette for each continent\n",
    "    colMap=dict(zip(colLab, colVal)) #created a dictionary object to associate each continent with a color \n",
    "    ##building plot and adding \n",
    "    df4.plot.scatter('fertility', 'lifeExp', s=df4['popNorm'], alpha=0.5, figsize=(12,8), c=df4['continent'].map(colMap))\n",
    "    plt.title('Life Expectancy vs Fertility in ' + str(i))\n",
    "    plt.ylabel('life expectancy')\n",
    "    plt.axis([0,10,0,90])\n",
    "    #creating a custom legend for continent labels \n",
    "    customLines=[] #list with colored lines for legend \n",
    "    for j in range(len(colLab)-1):\n",
    "        customLines.append(Line2D([0],[0], color=colVal[j],lw=4))\n",
    "    plt.legend(customLines, colLab, loc='best')\n",
    "    plt.savefig(f'scatt4gif/scatter{i}.png')\n",
    "    plt.close()"
   ]
  },
  {
   "cell_type": "code",
   "execution_count": 10,
   "metadata": {},
   "outputs": [],
   "source": [
    "#concatenate all scatter png images into a gif\n",
    "import imageio\n",
    "images=[]\n",
    "for i in targetCols:\n",
    "    filename='scatt4gif/scatter{}.png'.format(i)\n",
    "    images.append(imageio.imread(filename))\n",
    "imageio.mimsave('scatter.gif', images, fps=10) "
   ]
  },
  {
   "cell_type": "code",
   "execution_count": 18,
   "metadata": {},
   "outputs": [],
   "source": [
    "#for loop for 3D bar plots \n",
    "import matplotlib.pyplot as plt\n",
    "from mpl_toolkits import mplot3d\n",
    "import numpy as np\n",
    "import seaborn as sns\n",
    "from matplotlib.lines import Line2D\n",
    "\n",
    "for i in targetCols:\n",
    "    ##partially unfold df by pulling years out of indices\n",
    "    df3=df2.unstack(1)\n",
    "    ##slice the individual year from main df \n",
    "    df3=df3[i]\n",
    "    ##unfold the df further by pulling category from indices\n",
    "    df3=df3.unstack(1)\n",
    "    ##normalize population column \n",
    "    df3['popNorm']=((df3['population']-df3['population'].min())/\n",
    "                    (df3['population'].max()-df3['population'].min()))*5000\n",
    "    df4=pd.merge(cont, df3, left_index=True, right_index=True)\n",
    "    #setup 3D plot environment\n",
    "    fig = plt.figure(figsize=(12, 8))\n",
    "    ax = plt.axes(projection='3d')\n",
    "    numBar=len(df4)\n",
    "    #bar positions\n",
    "    xPos=df4['fertility']\n",
    "    yPos=df4['lifeExp']\n",
    "    zPos=np.zeros(numBar)\n",
    "    xSize=np.ones(numBar)\n",
    "    ySize=np.ones(numBar)\n",
    "    zSize=df4['popNorm']\n",
    "    ##create a color map for plot\n",
    "    colLab=df4['continent'].unique() \n",
    "    colVal=sns.color_palette('hls', 8) #created color palette for each continent\n",
    "    colMap=dict(zip(colLab, colVal)) #created a dictionary object to associate each continent with a color \n",
    "    #add plot to environment\n",
    "    ax.bar3d(xPos, yPos, zPos, xSize, ySize, zSize, color=df4['continent'].map(colMap))\n",
    "    ax.set_xlabel('fertility')\n",
    "    ax.set_ylabel('life expectancy')\n",
    "    ax.set_zlabel('population')\n",
    "    ax.set_xlim(0, 10)\n",
    "    ax.set_ylim(0,90)\n",
    "    #creating a custom legend for continent labels \n",
    "    customLines=[] #list with colored lines for legend \n",
    "    for j in range(len(colLab)-1):\n",
    "        customLines.append(Line2D([0],[0], color=colVal[j],lw=4))\n",
    "    ax.legend(customLines, colLab, loc='best')\n",
    "    plt.savefig(f'bar3Dgif/bar3D{i}.png')\n",
    "    plt.close()\n"
   ]
  },
  {
   "cell_type": "code",
   "execution_count": 19,
   "metadata": {},
   "outputs": [],
   "source": [
    "#concatenate all 3D png images into a gif\n",
    "import imageio\n",
    "images=[]\n",
    "for i in targetCols:\n",
    "    filename='bar3Dgif/bar3D{}.png'.format(i)\n",
    "    images.append(imageio.imread(filename))\n",
    "imageio.mimsave('bar3D.gif', images, fps=10)"
   ]
  },
  {
   "cell_type": "code",
   "execution_count": null,
   "metadata": {},
   "outputs": [],
   "source": []
  }
 ],
 "metadata": {
  "kernelspec": {
   "display_name": "Python 3",
   "language": "python",
   "name": "python3"
  },
  "language_info": {
   "codemirror_mode": {
    "name": "ipython",
    "version": 3
   },
   "file_extension": ".py",
   "mimetype": "text/x-python",
   "name": "python",
   "nbconvert_exporter": "python",
   "pygments_lexer": "ipython3",
   "version": "3.7.6"
  }
 },
 "nbformat": 4,
 "nbformat_minor": 4
}
