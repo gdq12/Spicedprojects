{
 "cells": [
  {
   "cell_type": "markdown",
   "metadata": {},
   "source": [
    "<h1><center>Transition matrix whole week supermarket</center></h1>"
   ]
  },
  {
   "cell_type": "code",
   "execution_count": 24,
   "metadata": {},
   "outputs": [],
   "source": [
    "#load necessary libraries \n",
    "import pandas as pd\n",
    "import numpy as np"
   ]
  },
  {
   "cell_type": "code",
   "execution_count": 25,
   "metadata": {},
   "outputs": [],
   "source": [
    "#load necessary data files \n",
    "monday=pd.read_csv('data/monday.csv', parse_dates=True, index_col=0, sep=';')\n",
    "tuesday=pd.read_csv('data/tuesday.csv', parse_dates=True, index_col=0, sep=';')\n",
    "wednesday=pd.read_csv('data/wednesday.csv', parse_dates=True, index_col=0, sep=';')\n",
    "thursday=pd.read_csv('data/thursday.csv', parse_dates=True, index_col=0, sep=';')\n",
    "friday=pd.read_csv('data/friday.csv', parse_dates=True, index_col=0, sep=';')"
   ]
  },
  {
   "cell_type": "code",
   "execution_count": 26,
   "metadata": {},
   "outputs": [],
   "source": [
    "#reindex time for every minute of the working day and forwrd fill row with info from row above \n",
    "#based on: https://stackoverflow.com/questions/32275540/pandas-reindex-dates-in-groupby\n",
    "def reindex_by_date(df):\n",
    "    dates=pd.date_range(df.index.min(), df.index.max(), freq='T')\n",
    "    return df.reindex(dates).ffill()"
   ]
  },
  {
   "cell_type": "code",
   "execution_count": 27,
   "metadata": {},
   "outputs": [],
   "source": [
    "monday1=monday.groupby('customer_no').apply(reindex_by_date).reset_index(0, drop=True)\n",
    "tuesday1=tuesday.groupby('customer_no').apply(reindex_by_date).reset_index(0, drop=True)\n",
    "wednesday1=wednesday.groupby('customer_no').apply(reindex_by_date).reset_index(0, drop=True)\n",
    "thursday1=thursday.groupby('customer_no').apply(reindex_by_date).reset_index(0, drop=True)\n",
    "friday1=friday.groupby('customer_no').apply(reindex_by_date).reset_index(0, drop=True)"
   ]
  },
  {
   "cell_type": "code",
   "execution_count": 28,
   "metadata": {},
   "outputs": [],
   "source": [
    "#creates the following station column by shifting location value up by 1 \n",
    "#baseon on: https://stackoverflow.com/questions/53335567/use-pandas-shift-within-a-group\n",
    "monday1['next']=monday1.groupby('customer_no')['location'].shift(-1)\n",
    "tuesday1['next']=tuesday1.groupby('customer_no')['location'].shift(-1)\n",
    "wednesday1['next']=wednesday1.groupby('customer_no')['location'].shift(-1)\n",
    "thursday1['next']=thursday1.groupby('customer_no')['location'].shift(-1)\n",
    "friday1['next']=friday1.groupby('customer_no')['location'].shift(-1)"
   ]
  },
  {
   "cell_type": "code",
   "execution_count": 29,
   "metadata": {},
   "outputs": [
    {
     "data": {
      "text/html": [
       "<div>\n",
       "<style scoped>\n",
       "    .dataframe tbody tr th:only-of-type {\n",
       "        vertical-align: middle;\n",
       "    }\n",
       "\n",
       "    .dataframe tbody tr th {\n",
       "        vertical-align: top;\n",
       "    }\n",
       "\n",
       "    .dataframe thead th {\n",
       "        text-align: right;\n",
       "    }\n",
       "</style>\n",
       "<table border=\"1\" class=\"dataframe\">\n",
       "  <thead>\n",
       "    <tr style=\"text-align: right;\">\n",
       "      <th></th>\n",
       "      <th>customer_no</th>\n",
       "      <th>location</th>\n",
       "      <th>next</th>\n",
       "      <th>first</th>\n",
       "      <th>weekday</th>\n",
       "    </tr>\n",
       "  </thead>\n",
       "  <tbody>\n",
       "    <tr>\n",
       "      <th>2019-09-02 07:03:00</th>\n",
       "      <td>1.0</td>\n",
       "      <td>dairy</td>\n",
       "      <td>dairy</td>\n",
       "      <td>True</td>\n",
       "      <td>Monday</td>\n",
       "    </tr>\n",
       "    <tr>\n",
       "      <th>2019-09-02 07:04:00</th>\n",
       "      <td>1.0</td>\n",
       "      <td>dairy</td>\n",
       "      <td>checkout</td>\n",
       "      <td>False</td>\n",
       "      <td>Monday</td>\n",
       "    </tr>\n",
       "    <tr>\n",
       "      <th>2019-09-02 07:05:00</th>\n",
       "      <td>1.0</td>\n",
       "      <td>checkout</td>\n",
       "      <td>NaN</td>\n",
       "      <td>False</td>\n",
       "      <td>Monday</td>\n",
       "    </tr>\n",
       "    <tr>\n",
       "      <th>2019-09-02 07:03:00</th>\n",
       "      <td>2.0</td>\n",
       "      <td>dairy</td>\n",
       "      <td>dairy</td>\n",
       "      <td>True</td>\n",
       "      <td>Monday</td>\n",
       "    </tr>\n",
       "    <tr>\n",
       "      <th>2019-09-02 07:04:00</th>\n",
       "      <td>2.0</td>\n",
       "      <td>dairy</td>\n",
       "      <td>dairy</td>\n",
       "      <td>False</td>\n",
       "      <td>Monday</td>\n",
       "    </tr>\n",
       "  </tbody>\n",
       "</table>\n",
       "</div>"
      ],
      "text/plain": [
       "                     customer_no  location      next  first weekday\n",
       "2019-09-02 07:03:00          1.0     dairy     dairy   True  Monday\n",
       "2019-09-02 07:04:00          1.0     dairy  checkout  False  Monday\n",
       "2019-09-02 07:05:00          1.0  checkout       NaN  False  Monday\n",
       "2019-09-02 07:03:00          2.0     dairy     dairy   True  Monday\n",
       "2019-09-02 07:04:00          2.0     dairy     dairy  False  Monday"
      ]
     },
     "execution_count": 29,
     "metadata": {},
     "output_type": "execute_result"
    }
   ],
   "source": [
    "#combine all day dfs together to form a week df and create boolean \n",
    "#row to indicate which aisle is the first for the customer to visit\n",
    "week=pd.concat([monday1,tuesday1,wednesday1,thursday1,friday1], axis=0)\n",
    "week['first']=~week['customer_no'].duplicated()\n",
    "week['weekday']=week.index.day_name()\n",
    "week.head()"
   ]
  },
  {
   "cell_type": "code",
   "execution_count": 30,
   "metadata": {},
   "outputs": [],
   "source": [
    "#export week df for simulation script\n",
    "week.to_csv('week_data.csv')"
   ]
  },
  {
   "cell_type": "code",
   "execution_count": 31,
   "metadata": {},
   "outputs": [
    {
     "data": {
      "text/html": [
       "<div>\n",
       "<style scoped>\n",
       "    .dataframe tbody tr th:only-of-type {\n",
       "        vertical-align: middle;\n",
       "    }\n",
       "\n",
       "    .dataframe tbody tr th {\n",
       "        vertical-align: top;\n",
       "    }\n",
       "\n",
       "    .dataframe thead th {\n",
       "        text-align: right;\n",
       "    }\n",
       "</style>\n",
       "<table border=\"1\" class=\"dataframe\">\n",
       "  <thead>\n",
       "    <tr style=\"text-align: right;\">\n",
       "      <th>next</th>\n",
       "      <th>checkout</th>\n",
       "      <th>dairy</th>\n",
       "      <th>drinks</th>\n",
       "      <th>fruit</th>\n",
       "      <th>spices</th>\n",
       "    </tr>\n",
       "    <tr>\n",
       "      <th>location</th>\n",
       "      <th></th>\n",
       "      <th></th>\n",
       "      <th></th>\n",
       "      <th></th>\n",
       "      <th></th>\n",
       "    </tr>\n",
       "  </thead>\n",
       "  <tbody>\n",
       "    <tr>\n",
       "      <th>dairy</th>\n",
       "      <td>0.102759</td>\n",
       "      <td>0.737331</td>\n",
       "      <td>0.058615</td>\n",
       "      <td>0.049887</td>\n",
       "      <td>0.051408</td>\n",
       "    </tr>\n",
       "    <tr>\n",
       "      <th>drinks</th>\n",
       "      <td>0.215549</td>\n",
       "      <td>0.010901</td>\n",
       "      <td>0.598622</td>\n",
       "      <td>0.087927</td>\n",
       "      <td>0.087001</td>\n",
       "    </tr>\n",
       "    <tr>\n",
       "      <th>fruit</th>\n",
       "      <td>0.201165</td>\n",
       "      <td>0.095977</td>\n",
       "      <td>0.054878</td>\n",
       "      <td>0.597276</td>\n",
       "      <td>0.050705</td>\n",
       "    </tr>\n",
       "    <tr>\n",
       "      <th>spices</th>\n",
       "      <td>0.150008</td>\n",
       "      <td>0.193368</td>\n",
       "      <td>0.163239</td>\n",
       "      <td>0.091025</td>\n",
       "      <td>0.402359</td>\n",
       "    </tr>\n",
       "  </tbody>\n",
       "</table>\n",
       "</div>"
      ],
      "text/plain": [
       "next      checkout     dairy    drinks     fruit    spices\n",
       "location                                                  \n",
       "dairy     0.102759  0.737331  0.058615  0.049887  0.051408\n",
       "drinks    0.215549  0.010901  0.598622  0.087927  0.087001\n",
       "fruit     0.201165  0.095977  0.054878  0.597276  0.050705\n",
       "spices    0.150008  0.193368  0.163239  0.091025  0.402359"
      ]
     },
     "execution_count": 31,
     "metadata": {},
     "output_type": "execute_result"
    }
   ],
   "source": [
    "P=pd.crosstab(week['location'], week['next'], normalize=0)\n",
    "P"
   ]
  },
  {
   "cell_type": "code",
   "execution_count": 32,
   "metadata": {},
   "outputs": [],
   "source": [
    "#export the transition matrix for simulation script \n",
    "P.to_csv('transition_matrix.csv')"
   ]
  }
 ],
 "metadata": {
  "kernelspec": {
   "display_name": "Python 3",
   "language": "python",
   "name": "python3"
  },
  "language_info": {
   "codemirror_mode": {
    "name": "ipython",
    "version": 3
   },
   "file_extension": ".py",
   "mimetype": "text/x-python",
   "name": "python",
   "nbconvert_exporter": "python",
   "pygments_lexer": "ipython3",
   "version": "3.7.7"
  }
 },
 "nbformat": 4,
 "nbformat_minor": 4
}
