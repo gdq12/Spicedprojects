{
 "cells": [
  {
   "cell_type": "markdown",
   "metadata": {},
   "source": [
    "# Correlation between life expectancy and fertility globally 1960-2015"
   ]
  },
  {
   "cell_type": "markdown",
   "metadata": {},
   "source": [
    "## Outline\n",
    "- load fertility, life expectancy and population from gapminder \n",
    "- slice columns 1960-2015\n",
    "- merge them together via stack and unstack \n",
    "- create individual scatter plots and histograms for each year \n",
    "- concatenate them together into respective GIFs"
   ]
  },
  {
   "cell_type": "markdown",
   "metadata": {},
   "source": [
    "### Loading data and cleaning up data"
   ]
  },
  {
   "cell_type": "code",
   "execution_count": 2,
   "metadata": {},
   "outputs": [],
   "source": [
    "#importing data frames \n",
    "import pandas as pd\n",
    "fert=pd.read_csv(\"gapminder_total_fertility.csv\", index_col=0)\n",
    "life=pd.read_excel(\"gapminder_lifeexpectancy.xlsx\", index_col=0)\n",
    "pop=pd.read_excel('gapminder_population.xlsx', index_col=0)"
   ]
  },
  {
   "cell_type": "code",
   "execution_count": 8,
   "metadata": {},
   "outputs": [
    {
     "name": "stdout",
     "output_type": "stream",
     "text": [
      "life df: (260, 217)\n",
      "fert df: (260, 216)\n",
      "pop df: (275, 81)\n"
     ]
    }
   ],
   "source": [
    "#check each df dimensions \n",
    "print('life df: ' + str(life.shape))\n",
    "print('fert df: ' + str(fert.shape))\n",
    "print('pop df: ' + str(pop.shape))"
   ]
  },
  {
   "cell_type": "code",
   "execution_count": 11,
   "metadata": {},
   "outputs": [
    {
     "name": "stdout",
     "output_type": "stream",
     "text": [
      "life columns: Int64Index([1800, 1801, 1802, 1803, 1804, 1805, 1806, 1807, 1808, 1809,\n",
      "            ...\n",
      "            2007, 2008, 2009, 2010, 2011, 2012, 2013, 2014, 2015, 2016],\n",
      "           dtype='int64', length=217)\n",
      "fert columns: Index(['1800', '1801', '1802', '1803', '1804', '1805', '1806', '1807', '1808',\n",
      "       '1809',\n",
      "       ...\n",
      "       '2006', '2007', '2008', '2009', '2010', '2011', '2012', '2013', '2014',\n",
      "       '2015'],\n",
      "      dtype='object', length=216)\n",
      "pop columns: Int64Index([1800, 1810, 1820, 1830, 1840, 1850, 1860, 1870, 1880, 1890, 1900,\n",
      "            1910, 1920, 1930, 1940, 1950, 1951, 1952, 1953, 1954, 1955, 1956,\n",
      "            1957, 1958, 1959, 1960, 1961, 1962, 1963, 1964, 1965, 1966, 1967,\n",
      "            1968, 1969, 1970, 1971, 1972, 1973, 1974, 1975, 1976, 1977, 1978,\n",
      "            1979, 1980, 1981, 1982, 1983, 1984, 1985, 1986, 1987, 1988, 1989,\n",
      "            1990, 1991, 1992, 1993, 1994, 1995, 1996, 1997, 1998, 1999, 2000,\n",
      "            2001, 2002, 2003, 2004, 2005, 2006, 2007, 2008, 2009, 2010, 2011,\n",
      "            2012, 2013, 2014, 2015],\n",
      "           dtype='int64')\n"
     ]
    }
   ],
   "source": [
    "#verify that column names are integers and strings \n",
    "print('life columns: ' + str(life.columns))\n",
    "print('fert columns: ' + str(fert.columns))\n",
    "print('pop columns: ' + str(pop.columns))"
   ]
  },
  {
   "cell_type": "code",
   "execution_count": 24,
   "metadata": {},
   "outputs": [
    {
     "name": "stdout",
     "output_type": "stream",
     "text": [
      "fert columns: Int64Index([1800, 1801, 1802, 1803, 1804, 1805, 1806, 1807, 1808, 1809,\n",
      "            ...\n",
      "            2006, 2007, 2008, 2009, 2010, 2011, 2012, 2013, 2014, 2015],\n",
      "           dtype='int64', length=216)\n"
     ]
    }
   ],
   "source": [
    "#change fert column names from string to integer\n",
    "colNames=[int(x) for x in fert.columns]\n",
    "fert.set_axis(axis=1, labels=colNames, inplace=True)\n",
    "#verify fert column names are now integers\n",
    "print('fert columns: ' + str(fert.columns))"
   ]
  },
  {
   "cell_type": "code",
   "execution_count": 23,
   "metadata": {},
   "outputs": [
    {
     "name": "stdout",
     "output_type": "stream",
     "text": [
      "life df: (260, 56)\n",
      "fert df: (260, 56)\n",
      "pop df: (275, 56)\n"
     ]
    }
   ],
   "source": [
    "#slicing 1960-2015 columns in all 3 dfs\n",
    "targetCols=list(map(int, range(1960, 2016)))\n",
    "fert2=fert[targetCols]\n",
    "life2=life[targetCols]\n",
    "pop2=pop[targetCols]#verify new dfs dimensions \n",
    "print('life df: ' + str(life2.shape))\n",
    "print('fert df: ' + str(fert2.shape))\n",
    "print('pop df: ' + str(pop2.shape))"
   ]
  },
  {
   "cell_type": "markdown",
   "metadata": {},
   "source": [
    "### Merging fertility, population and life expectancy together via stack and unstack "
   ]
  },
  {
   "cell_type": "code",
   "execution_count": 22,
   "metadata": {},
   "outputs": [],
   "source": [
    "#folding the year columns towards the country index for each df\n",
    "sfert2=fert2.stack()\n",
    "slife2=life2.stack()\n",
    "spop2=pop2.stack()"
   ]
  },
  {
   "cell_type": "code",
   "execution_count": 38,
   "metadata": {},
   "outputs": [],
   "source": [
    "#create dictionary for merging the 3 dfs into 1 large one \n",
    "d={'fertility':sfert2, 'lifeExp':slife2, 'population':spop2} \n",
    "#create a large df from the 3 smaller ones where country and year are indices \n",
    "df1=pd.DataFrame(data=d)\n",
    "#fold the df again into a series. country, year and category(fertility, lifeExp, population) are indices\n",
    "df2=df1.stack()"
   ]
  },
  {
   "cell_type": "markdown",
   "metadata": {},
   "source": [
    "### Creating individual plots for 1960-2015\n",
    "- quick note: normalized population data so can properly see how country population affects life expectancy and fertility correlation"
   ]
  },
  {
   "cell_type": "markdown",
   "metadata": {},
   "source": [
    "#### Normalization Formula(* 5000):\n",
    "$$\\frac{x-x_{min}}{x_{max}-x_{min}}$$"
   ]
  },
  {
   "cell_type": "code",
   "execution_count": 77,
   "metadata": {},
   "outputs": [],
   "source": [
    "#use for loop to build and store each scatter plot \n",
    "import pylab as plt\n",
    "for i in targetCols:\n",
    "    ##partially unfold df by pulling years out of indices\n",
    "    df3=df2.unstack(1)\n",
    "    ##slice the individual year from main df \n",
    "    df3=df3[i]\n",
    "    ##unfold the df further by pulling category from indices\n",
    "    df3=df3.unstack(1)\n",
    "    ##normalize population column \n",
    "    df3['popNorm']=((df3['population']-df3['population'].min())/\n",
    "                    (df3['population'].max()-df3['population'].min()))*5000\n",
    "    ##create a color map for plot\n",
    "    cmap=plt.get_cmap('tab20', lut=len(df3)).colors\n",
    "    ##building plot and adding \n",
    "    df3.plot.scatter('fertility', 'lifeExp', s=df3['popNorm'], alpha=0.5, c=cmap, figsize=(12,8))\n",
    "    plt.title('Life Expectancy vs Fertility in ' + str(i))\n",
    "    plt.ylabel('life expectancy')\n",
    "    plt.axis([0,10,0,90])\n",
    "    plt.savefig('scatter'+str(i)+'.png')\n",
    "    plt.close()"
   ]
  },
  {
   "cell_type": "code",
   "execution_count": 78,
   "metadata": {},
   "outputs": [],
   "source": [
    "#concatenate all scatter png images into a gif\n",
    "import imageio\n",
    "images=[]\n",
    "for i in targetCols:\n",
    "    filename='scatter{}.png'.format(i)\n",
    "    images.append(imageio.imread(filename))\n",
    "imageio.mimsave('scatter.gif', images, fps=20) "
   ]
  },
  {
   "cell_type": "code",
   "execution_count": 75,
   "metadata": {},
   "outputs": [],
   "source": [
    "#use similiar for loop to create life expectancy and fertility histograms \n",
    "for i in targetCols:\n",
    "    ##prepare df for graphs\n",
    "    df3=df2.unstack(1)\n",
    "    df3=df3[i]\n",
    "    df3=df3.unstack(1)\n",
    "    ##build \"canvas\" and ID the 2 graphs\n",
    "    fig, (g1, g2)=plt.subplots(nrows=1, ncols=2, figsize=(12,8))\n",
    "    fig.suptitle('Life Expectancy and Frequency at ' + str(i))\n",
    "    ##build histogram 1\n",
    "    g1.hist(df3['fertility'], facecolor='red', edgecolor='black', linewidth=1.5)\n",
    "    g1.set_xlim([0,10])\n",
    "    g1.set_ylim([0,80])\n",
    "    g1.set_ylabel('frequency')\n",
    "    g1.set_xlabel('fertility rate')\n",
    "    ##build histogram 2\n",
    "    g2.hist(df3['lifeExp'], facecolor='blue', edgecolor='black', linewidth=1.5)\n",
    "    g2.set_xlim([0,90])\n",
    "    g2.set_ylim([0,60])\n",
    "    g2.set_xlabel('Max life span')\n",
    "    plt.savefig('hist'+str(i)+'.png')\n",
    "    plt.close()"
   ]
  },
  {
   "cell_type": "code",
   "execution_count": 76,
   "metadata": {},
   "outputs": [],
   "source": [
    "#concatenate all hist png images into a gif\n",
    "import imageio\n",
    "images=[]\n",
    "for i in targetCols:\n",
    "    filename='hist{}.png'.format(i)\n",
    "    images.append(imageio.imread(filename))\n",
    "imageio.mimsave('histogram.gif', images, fps=20) "
   ]
  }
 ],
 "metadata": {
  "kernelspec": {
   "display_name": "Python 3",
   "language": "python",
   "name": "python3"
  },
  "language_info": {
   "codemirror_mode": {
    "name": "ipython",
    "version": 3
   },
   "file_extension": ".py",
   "mimetype": "text/x-python",
   "name": "python",
   "nbconvert_exporter": "python",
   "pygments_lexer": "ipython3",
   "version": "3.7.6"
  }
 },
 "nbformat": 4,
 "nbformat_minor": 4
}
